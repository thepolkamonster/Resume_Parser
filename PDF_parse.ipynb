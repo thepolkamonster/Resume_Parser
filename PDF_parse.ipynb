{
 "cells": [
  {
   "cell_type": "code",
   "execution_count": 139,
   "id": "c41fd031-4412-45f0-9e6c-434d0cdd6f45",
   "metadata": {},
   "outputs": [],
   "source": [
    "from PyPDF2 import PdfReader\n",
    "from PIL import Image\n",
    "import pytesseract\n",
    "import fitz"
   ]
  },
  {
   "cell_type": "markdown",
   "id": "35421496-4203-4a52-8d9e-b0481fd509b3",
   "metadata": {},
   "source": [
    "## Extract text from PDF"
   ]
  },
  {
   "cell_type": "markdown",
   "id": "9bd0661b-80c9-4bbf-88b1-84418c0fab24",
   "metadata": {},
   "source": [
    "- In this step I will extract text from the PDF file.\n",
    "- Here I assume that all the given resumes are native PDFs.\n",
    "- The diffrence is that a natve PDF has a PDF extension but it can also be an image PDF which will need a diffrent approach."
   ]
  },
  {
   "cell_type": "markdown",
   "id": "daf1aab7-09ea-4eb8-b952-3e894ae9740b",
   "metadata": {},
   "source": [
    "## Edit the file path accordingly\n",
    "- Make sure that this notebook and your resume are in the same directory.\n",
    "- Replace \"Anusha Agarwal Resume.pdf\" with the filename of your resume."
   ]
  },
  {
   "cell_type": "code",
   "execution_count": 140,
   "id": "bf367a32-a47d-4390-83bf-3137548d4afd",
   "metadata": {},
   "outputs": [],
   "source": [
    "file_path = \"Anusha Agarwal Resume.pdf\""
   ]
  },
  {
   "cell_type": "code",
   "execution_count": 141,
   "id": "72b689dd-d2e3-4601-8607-f26370e2cf7b",
   "metadata": {},
   "outputs": [],
   "source": [
    "reader = PdfReader(file_path)\n",
    "\n",
    "pdf_string_1 = ''\n",
    "\n",
    "for page in range(len(reader.pages)):\n",
    "    pdf_string_1 += reader.pages[page].extract_text()\n",
    "\n",
    "#Text stored in pdf_string_1\n",
    "\n",
    "#This will store all the extracted information\n",
    "information = {}\n",
    "\n",
    "import re\n",
    "#define the regex pattern\n",
    "number_pattern = r\"\\b(?:\\+?\\d{1,3}[-.\\s]?)?\\(?\\d{3}\\)?[-.\\s]?\\d{3}[-.\\s]?\\d{4}\\b\"\n",
    "email_pattern = r\"\\b[A-Za-z0-9._%+-]+@[A-Za-z0-9.-]+\\.[A-Za-z]{2,}\\b\"\n",
    "\n",
    "number_match = re.search(number_pattern, pdf_string_1)\n",
    "email_match = re.search(email_pattern, pdf_string_1)\n",
    "\n",
    "if number_match:\n",
    "    phone_no = number_match.group()\n",
    "    information['Phone No'] = phone_no\n",
    "\n",
    "if email_match:\n",
    "    email = email_match.group()\n",
    "    information['Email'] = email"
   ]
  },
  {
   "cell_type": "markdown",
   "id": "1300dc57-0219-47ee-a91e-8549cbcff014",
   "metadata": {},
   "source": [
    "## Now we need to extract the name of the person\n",
    "- This will require some NLP as name does not follow any perticular format except that it is 2 proper nouns one after another\n",
    "- We will use pretrained models from spacy\n",
    "- To download this model, we use \"!python -m spacy download en_core_web_lg\"\n",
    "- This is one-time download and will not slow down the performance of this code.\n",
    "- If the system already has this model, this step can be skipped entirely"
   ]
  },
  {
   "cell_type": "code",
   "execution_count": 142,
   "id": "77099c99-4487-4761-96f4-b70173f7322d",
   "metadata": {},
   "outputs": [],
   "source": [
    "import spacy\n",
    "from spacy.tokens import DocBin\n",
    "from tqdm import tqdm\n",
    "import json"
   ]
  },
  {
   "cell_type": "code",
   "execution_count": 49,
   "id": "152b57fb-a47e-4dbc-adec-16c223a27a06",
   "metadata": {},
   "outputs": [
    {
     "name": "stdout",
     "output_type": "stream",
     "text": [
      "Collecting en-core-web-sm==3.7.0\n",
      "  Downloading https://github.com/explosion/spacy-models/releases/download/en_core_web_sm-3.7.0/en_core_web_sm-3.7.0-py3-none-any.whl (12.8 MB)\n",
      "     ---------------------------------------- 0.0/12.8 MB ? eta -:--:--\n",
      "     ---------------------------------------- 0.0/12.8 MB ? eta -:--:--\n",
      "     --------------------------------------- 0.0/12.8 MB 393.8 kB/s eta 0:00:33\n",
      "     ---------------------------------------- 0.1/12.8 MB 1.1 MB/s eta 0:00:12\n",
      "      --------------------------------------- 0.3/12.8 MB 1.7 MB/s eta 0:00:08\n",
      "     -- ------------------------------------- 0.7/12.8 MB 3.2 MB/s eta 0:00:04\n",
      "     ----- ---------------------------------- 1.7/12.8 MB 6.3 MB/s eta 0:00:02\n",
      "     ------ --------------------------------- 2.1/12.8 MB 7.3 MB/s eta 0:00:02\n",
      "     ------- -------------------------------- 2.4/12.8 MB 6.6 MB/s eta 0:00:02\n",
      "     ------- -------------------------------- 2.4/12.8 MB 6.6 MB/s eta 0:00:02\n",
      "     -------- ------------------------------- 2.6/12.8 MB 6.3 MB/s eta 0:00:02\n",
      "     --------- ------------------------------ 3.1/12.8 MB 6.3 MB/s eta 0:00:02\n",
      "     ---------- ----------------------------- 3.4/12.8 MB 6.4 MB/s eta 0:00:02\n",
      "     ----------- ---------------------------- 3.7/12.8 MB 6.6 MB/s eta 0:00:02\n",
      "     ------------ --------------------------- 4.1/12.8 MB 6.4 MB/s eta 0:00:02\n",
      "     ------------- -------------------------- 4.3/12.8 MB 6.4 MB/s eta 0:00:02\n",
      "     -------------- ------------------------- 4.7/12.8 MB 6.3 MB/s eta 0:00:02\n",
      "     -------------- ------------------------- 4.8/12.8 MB 6.1 MB/s eta 0:00:02\n",
      "     -------------- ------------------------- 4.8/12.8 MB 6.0 MB/s eta 0:00:02\n",
      "     --------------- ------------------------ 4.8/12.8 MB 5.7 MB/s eta 0:00:02\n",
      "     ----------------- ---------------------- 5.7/12.8 MB 6.1 MB/s eta 0:00:02\n",
      "     ------------------ --------------------- 6.0/12.8 MB 6.2 MB/s eta 0:00:02\n",
      "     ------------------- -------------------- 6.1/12.8 MB 6.1 MB/s eta 0:00:02\n",
      "     -------------------- ------------------- 6.5/12.8 MB 6.1 MB/s eta 0:00:02\n",
      "     -------------------- ------------------- 6.5/12.8 MB 6.1 MB/s eta 0:00:02\n",
      "     ---------------------- ----------------- 7.1/12.8 MB 6.2 MB/s eta 0:00:01\n",
      "     ---------------------- ----------------- 7.3/12.8 MB 6.1 MB/s eta 0:00:01\n",
      "     ----------------------- ---------------- 7.6/12.8 MB 6.1 MB/s eta 0:00:01\n",
      "     ------------------------- -------------- 8.1/12.8 MB 6.2 MB/s eta 0:00:01\n",
      "     -------------------------- ------------- 8.4/12.8 MB 6.3 MB/s eta 0:00:01\n",
      "     -------------------------- ------------- 8.6/12.8 MB 6.3 MB/s eta 0:00:01\n",
      "     --------------------------- ------------ 8.9/12.8 MB 6.2 MB/s eta 0:00:01\n",
      "     ---------------------------- ----------- 9.2/12.8 MB 6.2 MB/s eta 0:00:01\n",
      "     ----------------------------- ---------- 9.4/12.8 MB 6.1 MB/s eta 0:00:01\n",
      "     ------------------------------ --------- 9.6/12.8 MB 6.1 MB/s eta 0:00:01\n",
      "     ------------------------------ --------- 9.9/12.8 MB 6.1 MB/s eta 0:00:01\n",
      "     ------------------------------- -------- 10.1/12.8 MB 6.0 MB/s eta 0:00:01\n",
      "     -------------------------------- ------- 10.3/12.8 MB 6.3 MB/s eta 0:00:01\n",
      "     -------------------------------- ------- 10.3/12.8 MB 6.4 MB/s eta 0:00:01\n",
      "     --------------------------------- ------ 10.7/12.8 MB 6.4 MB/s eta 0:00:01\n",
      "     --------------------------------- ------ 10.8/12.8 MB 6.3 MB/s eta 0:00:01\n",
      "     ---------------------------------- ----- 11.0/12.8 MB 6.1 MB/s eta 0:00:01\n",
      "     ---------------------------------- ----- 11.0/12.8 MB 6.0 MB/s eta 0:00:01\n",
      "     ---------------------------------- ----- 11.2/12.8 MB 5.8 MB/s eta 0:00:01\n",
      "     ----------------------------------- ---- 11.3/12.8 MB 5.6 MB/s eta 0:00:01\n",
      "     ----------------------------------- ---- 11.5/12.8 MB 5.5 MB/s eta 0:00:01\n",
      "     ------------------------------------ --- 11.7/12.8 MB 5.4 MB/s eta 0:00:01\n",
      "     ------------------------------------ --- 11.8/12.8 MB 5.4 MB/s eta 0:00:01\n",
      "     ------------------------------------- -- 12.0/12.8 MB 5.2 MB/s eta 0:00:01\n",
      "     ------------------------------------- -- 12.2/12.8 MB 5.1 MB/s eta 0:00:01\n",
      "     -------------------------------------- - 12.3/12.8 MB 5.0 MB/s eta 0:00:01\n",
      "     -------------------------------------- - 12.5/12.8 MB 5.0 MB/s eta 0:00:01\n",
      "     ---------------------------------------  12.6/12.8 MB 5.1 MB/s eta 0:00:01\n",
      "     ---------------------------------------  12.8/12.8 MB 5.0 MB/s eta 0:00:01\n",
      "     ---------------------------------------  12.8/12.8 MB 5.0 MB/s eta 0:00:01\n",
      "     ---------------------------------------- 12.8/12.8 MB 4.9 MB/s eta 0:00:00\n",
      "Requirement already satisfied: spacy<3.8.0,>=3.7.0 in c:\\users\\saksh\\appdata\\local\\programs\\python\\python312\\lib\\site-packages (from en-core-web-sm==3.7.0) (3.7.2)\n",
      "Requirement already satisfied: spacy-legacy<3.1.0,>=3.0.11 in c:\\users\\saksh\\appdata\\local\\programs\\python\\python312\\lib\\site-packages (from spacy<3.8.0,>=3.7.0->en-core-web-sm==3.7.0) (3.0.12)\n",
      "Requirement already satisfied: spacy-loggers<2.0.0,>=1.0.0 in c:\\users\\saksh\\appdata\\local\\programs\\python\\python312\\lib\\site-packages (from spacy<3.8.0,>=3.7.0->en-core-web-sm==3.7.0) (1.0.5)\n",
      "Requirement already satisfied: murmurhash<1.1.0,>=0.28.0 in c:\\users\\saksh\\appdata\\local\\programs\\python\\python312\\lib\\site-packages (from spacy<3.8.0,>=3.7.0->en-core-web-sm==3.7.0) (1.0.10)\n",
      "Requirement already satisfied: cymem<2.1.0,>=2.0.2 in c:\\users\\saksh\\appdata\\local\\programs\\python\\python312\\lib\\site-packages (from spacy<3.8.0,>=3.7.0->en-core-web-sm==3.7.0) (2.0.8)\n",
      "Requirement already satisfied: preshed<3.1.0,>=3.0.2 in c:\\users\\saksh\\appdata\\local\\programs\\python\\python312\\lib\\site-packages (from spacy<3.8.0,>=3.7.0->en-core-web-sm==3.7.0) (3.0.9)\n",
      "Requirement already satisfied: thinc<8.3.0,>=8.1.8 in c:\\users\\saksh\\appdata\\local\\programs\\python\\python312\\lib\\site-packages (from spacy<3.8.0,>=3.7.0->en-core-web-sm==3.7.0) (8.2.1)\n",
      "Requirement already satisfied: wasabi<1.2.0,>=0.9.1 in c:\\users\\saksh\\appdata\\local\\programs\\python\\python312\\lib\\site-packages (from spacy<3.8.0,>=3.7.0->en-core-web-sm==3.7.0) (1.1.2)\n",
      "Requirement already satisfied: srsly<3.0.0,>=2.4.3 in c:\\users\\saksh\\appdata\\local\\programs\\python\\python312\\lib\\site-packages (from spacy<3.8.0,>=3.7.0->en-core-web-sm==3.7.0) (2.4.8)\n",
      "Requirement already satisfied: catalogue<2.1.0,>=2.0.6 in c:\\users\\saksh\\appdata\\local\\programs\\python\\python312\\lib\\site-packages (from spacy<3.8.0,>=3.7.0->en-core-web-sm==3.7.0) (2.0.10)\n",
      "Requirement already satisfied: weasel<0.4.0,>=0.1.0 in c:\\users\\saksh\\appdata\\local\\programs\\python\\python312\\lib\\site-packages (from spacy<3.8.0,>=3.7.0->en-core-web-sm==3.7.0) (0.3.4)\n",
      "Requirement already satisfied: typer<0.10.0,>=0.3.0 in c:\\users\\saksh\\appdata\\local\\programs\\python\\python312\\lib\\site-packages (from spacy<3.8.0,>=3.7.0->en-core-web-sm==3.7.0) (0.9.0)\n",
      "Requirement already satisfied: smart-open<7.0.0,>=5.2.1 in c:\\users\\saksh\\appdata\\local\\programs\\python\\python312\\lib\\site-packages (from spacy<3.8.0,>=3.7.0->en-core-web-sm==3.7.0) (6.4.0)\n",
      "Requirement already satisfied: tqdm<5.0.0,>=4.38.0 in c:\\users\\saksh\\appdata\\local\\programs\\python\\python312\\lib\\site-packages (from spacy<3.8.0,>=3.7.0->en-core-web-sm==3.7.0) (4.66.1)\n",
      "Requirement already satisfied: requests<3.0.0,>=2.13.0 in c:\\users\\saksh\\appdata\\local\\programs\\python\\python312\\lib\\site-packages (from spacy<3.8.0,>=3.7.0->en-core-web-sm==3.7.0) (2.31.0)\n",
      "Requirement already satisfied: pydantic!=1.8,!=1.8.1,<3.0.0,>=1.7.4 in c:\\users\\saksh\\appdata\\local\\programs\\python\\python312\\lib\\site-packages (from spacy<3.8.0,>=3.7.0->en-core-web-sm==3.7.0) (2.5.0)\n",
      "Requirement already satisfied: jinja2 in c:\\users\\saksh\\appdata\\local\\programs\\python\\python312\\lib\\site-packages (from spacy<3.8.0,>=3.7.0->en-core-web-sm==3.7.0) (3.1.2)\n",
      "Requirement already satisfied: setuptools in c:\\users\\saksh\\appdata\\local\\programs\\python\\python312\\lib\\site-packages (from spacy<3.8.0,>=3.7.0->en-core-web-sm==3.7.0) (68.2.2)\n",
      "Requirement already satisfied: packaging>=20.0 in c:\\users\\saksh\\appdata\\local\\programs\\python\\python312\\lib\\site-packages (from spacy<3.8.0,>=3.7.0->en-core-web-sm==3.7.0) (23.2)\n",
      "Requirement already satisfied: langcodes<4.0.0,>=3.2.0 in c:\\users\\saksh\\appdata\\local\\programs\\python\\python312\\lib\\site-packages (from spacy<3.8.0,>=3.7.0->en-core-web-sm==3.7.0) (3.3.0)\n",
      "Requirement already satisfied: numpy>=1.19.0 in c:\\users\\saksh\\appdata\\local\\programs\\python\\python312\\lib\\site-packages (from spacy<3.8.0,>=3.7.0->en-core-web-sm==3.7.0) (1.26.1)\n",
      "Requirement already satisfied: annotated-types>=0.4.0 in c:\\users\\saksh\\appdata\\local\\programs\\python\\python312\\lib\\site-packages (from pydantic!=1.8,!=1.8.1,<3.0.0,>=1.7.4->spacy<3.8.0,>=3.7.0->en-core-web-sm==3.7.0) (0.6.0)\n",
      "Requirement already satisfied: pydantic-core==2.14.1 in c:\\users\\saksh\\appdata\\local\\programs\\python\\python312\\lib\\site-packages (from pydantic!=1.8,!=1.8.1,<3.0.0,>=1.7.4->spacy<3.8.0,>=3.7.0->en-core-web-sm==3.7.0) (2.14.1)\n",
      "Requirement already satisfied: typing-extensions>=4.6.1 in c:\\users\\saksh\\appdata\\local\\programs\\python\\python312\\lib\\site-packages (from pydantic!=1.8,!=1.8.1,<3.0.0,>=1.7.4->spacy<3.8.0,>=3.7.0->en-core-web-sm==3.7.0) (4.8.0)\n",
      "Requirement already satisfied: charset-normalizer<4,>=2 in c:\\users\\saksh\\appdata\\local\\programs\\python\\python312\\lib\\site-packages (from requests<3.0.0,>=2.13.0->spacy<3.8.0,>=3.7.0->en-core-web-sm==3.7.0) (3.3.2)\n",
      "Requirement already satisfied: idna<4,>=2.5 in c:\\users\\saksh\\appdata\\local\\programs\\python\\python312\\lib\\site-packages (from requests<3.0.0,>=2.13.0->spacy<3.8.0,>=3.7.0->en-core-web-sm==3.7.0) (3.4)\n",
      "Requirement already satisfied: urllib3<3,>=1.21.1 in c:\\users\\saksh\\appdata\\local\\programs\\python\\python312\\lib\\site-packages (from requests<3.0.0,>=2.13.0->spacy<3.8.0,>=3.7.0->en-core-web-sm==3.7.0) (2.0.7)\n",
      "Requirement already satisfied: certifi>=2017.4.17 in c:\\users\\saksh\\appdata\\local\\programs\\python\\python312\\lib\\site-packages (from requests<3.0.0,>=2.13.0->spacy<3.8.0,>=3.7.0->en-core-web-sm==3.7.0) (2023.7.22)\n",
      "Requirement already satisfied: blis<0.8.0,>=0.7.8 in c:\\users\\saksh\\appdata\\local\\programs\\python\\python312\\lib\\site-packages (from thinc<8.3.0,>=8.1.8->spacy<3.8.0,>=3.7.0->en-core-web-sm==3.7.0) (0.7.11)\n",
      "Requirement already satisfied: confection<1.0.0,>=0.0.1 in c:\\users\\saksh\\appdata\\local\\programs\\python\\python312\\lib\\site-packages (from thinc<8.3.0,>=8.1.8->spacy<3.8.0,>=3.7.0->en-core-web-sm==3.7.0) (0.1.3)\n",
      "Requirement already satisfied: colorama in c:\\users\\saksh\\appdata\\local\\programs\\python\\python312\\lib\\site-packages (from tqdm<5.0.0,>=4.38.0->spacy<3.8.0,>=3.7.0->en-core-web-sm==3.7.0) (0.4.6)\n",
      "Requirement already satisfied: click<9.0.0,>=7.1.1 in c:\\users\\saksh\\appdata\\local\\programs\\python\\python312\\lib\\site-packages (from typer<0.10.0,>=0.3.0->spacy<3.8.0,>=3.7.0->en-core-web-sm==3.7.0) (8.1.7)\n",
      "Requirement already satisfied: cloudpathlib<0.17.0,>=0.7.0 in c:\\users\\saksh\\appdata\\local\\programs\\python\\python312\\lib\\site-packages (from weasel<0.4.0,>=0.1.0->spacy<3.8.0,>=3.7.0->en-core-web-sm==3.7.0) (0.16.0)\n",
      "Requirement already satisfied: MarkupSafe>=2.0 in c:\\users\\saksh\\appdata\\local\\programs\\python\\python312\\lib\\site-packages (from jinja2->spacy<3.8.0,>=3.7.0->en-core-web-sm==3.7.0) (2.1.3)\n",
      "Installing collected packages: en-core-web-sm\n",
      "Successfully installed en-core-web-sm-3.7.0\n",
      "\u001b[38;5;2m[+] Download and installation successful\u001b[0m\n",
      "You can now load the package via spacy.load('en_core_web_sm')\n"
     ]
    },
    {
     "name": "stderr",
     "output_type": "stream",
     "text": [
      "\n",
      "[notice] A new release of pip is available: 23.2.1 -> 23.3.1\n",
      "[notice] To update, run: python.exe -m pip install --upgrade pip\n"
     ]
    }
   ],
   "source": [
    "!python -m spacy download en_core_web_lg"
   ]
  },
  {
   "cell_type": "code",
   "execution_count": 143,
   "id": "80a5f8c0-a1a7-4d22-829b-d5d104310891",
   "metadata": {},
   "outputs": [],
   "source": [
    "#nlp_1 = spacy.load('en_core_web_sm')\n",
    "nlp_2 = spacy.load('en_core_web_lg')\n",
    "from spacy.matcher import Matcher"
   ]
  },
  {
   "cell_type": "code",
   "execution_count": 144,
   "id": "951307bb-4438-499a-8fc1-443d64cf9aec",
   "metadata": {},
   "outputs": [],
   "source": [
    "#sample_1 = nlp_1(pdf_string_1)\n",
    "sample_2 = nlp_2(pdf_string_1)\n",
    "\n",
    "def extract_name(resume_text):\n",
    "    sample_2 = nlp_2(resume_text)\n",
    "\n",
    "    matcher = Matcher(nlp_2.vocab)\n",
    "    \n",
    "    # First name and Last name are always Proper Nouns\n",
    "    pattern = [\n",
    "        [{'POS': 'PROPN'}, {'POS': 'PROPN'}],\n",
    "        [{'POS': 'PROPN'}, {'POS': 'PROPN'},{'POS': 'PROPN'}],\n",
    "              ]\n",
    "    \n",
    "    matcher.add('NAME',pattern)\n",
    "    \n",
    "    matches = matcher(sample_2)\n",
    "    \n",
    "    for match_id, start, end in matches:\n",
    "        span = sample_2[start:end]\n",
    "        return span.text\n",
    "\n",
    "result_in_pdf = extract_name(pdf_string_1)\n",
    "information['Name'] = result"
   ]
  },
  {
   "cell_type": "code",
   "execution_count": 145,
   "id": "62903a9b-3d86-4de7-9ce7-2c036a7f4771",
   "metadata": {},
   "outputs": [
    {
     "data": {
      "text/plain": [
       "{'Phone No': '8121791433',\n",
       " 'Email': 'anusha.agarwal564@gmail.com',\n",
       " 'Name': 'Anusha Agarwal'}"
      ]
     },
     "execution_count": 145,
     "metadata": {},
     "output_type": "execute_result"
    }
   ],
   "source": [
    "information"
   ]
  },
  {
   "cell_type": "code",
   "execution_count": null,
   "id": "67db7f50-1a3b-4b90-8978-1d9583c443b8",
   "metadata": {},
   "outputs": [],
   "source": []
  }
 ],
 "metadata": {
  "kernelspec": {
   "display_name": "Python 3 (ipykernel)",
   "language": "python",
   "name": "python3"
  },
  "language_info": {
   "codemirror_mode": {
    "name": "ipython",
    "version": 3
   },
   "file_extension": ".py",
   "mimetype": "text/x-python",
   "name": "python",
   "nbconvert_exporter": "python",
   "pygments_lexer": "ipython3",
   "version": "3.12.0"
  }
 },
 "nbformat": 4,
 "nbformat_minor": 5
}
